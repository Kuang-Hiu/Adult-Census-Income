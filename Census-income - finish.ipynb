{
 "cells": [
  {
   "cell_type": "code",
   "execution_count": 52,
   "metadata": {},
   "outputs": [],
   "source": [
    "import matplotlib.pyplot as plt\n",
    "import seaborn as sns"
   ]
  },
  {
   "cell_type": "code",
   "execution_count": 53,
   "metadata": {},
   "outputs": [],
   "source": [
    "import findspark\n",
    "findspark.init()"
   ]
  },
  {
   "cell_type": "code",
   "execution_count": 54,
   "metadata": {},
   "outputs": [
    {
     "name": "stdout",
     "output_type": "stream",
     "text": [
      "Requirement already satisfied: pyspark in c:\\users\\yiry\\appdata\\local\\programs\\python\\python39\\lib\\site-packages (3.2.1)\n",
      "Requirement already satisfied: py4j==0.10.9.3 in c:\\users\\yiry\\appdata\\local\\programs\\python\\python39\\lib\\site-packages (from pyspark) (0.10.9.3)\n"
     ]
    },
    {
     "name": "stderr",
     "output_type": "stream",
     "text": [
      "WARNING: You are using pip version 20.2.3; however, version 22.0.3 is available.\n",
      "You should consider upgrading via the 'c:\\users\\yiry\\appdata\\local\\programs\\python\\python39\\python.exe -m pip install --upgrade pip' command.\n"
     ]
    }
   ],
   "source": [
    "!pip install pyspark"
   ]
  },
  {
   "cell_type": "code",
   "execution_count": 55,
   "metadata": {},
   "outputs": [
    {
     "name": "stdout",
     "output_type": "stream",
     "text": [
      "Requirement already satisfied: findspark in c:\\users\\yiry\\appdata\\local\\programs\\python\\python39\\lib\\site-packages (1.4.2)\n"
     ]
    },
    {
     "name": "stderr",
     "output_type": "stream",
     "text": [
      "WARNING: You are using pip version 20.2.3; however, version 22.0.3 is available.\n",
      "You should consider upgrading via the 'c:\\users\\yiry\\appdata\\local\\programs\\python\\python39\\python.exe -m pip install --upgrade pip' command.\n"
     ]
    }
   ],
   "source": [
    "!pip install findspark"
   ]
  },
  {
   "cell_type": "code",
   "execution_count": 56,
   "metadata": {},
   "outputs": [],
   "source": [
    "import pyspark\n",
    "from pyspark.sql import SparkSession\n",
    "from pyspark.sql import Row, types as T, functions as F\n",
    "from pyspark import *\n",
    "from pyspark.sql.functions import col,isnan, when, count, concat, lit\n",
    "from pyspark.ml.stat import Correlation\n",
    "from pyspark.ml.feature import VectorAssembler\n",
    "spark=SparkSession.builder.getOrCreate()"
   ]
  },
  {
   "cell_type": "code",
   "execution_count": 57,
   "metadata": {},
   "outputs": [],
   "source": [
    "#root = 'C:/Users/Yiry/Dropbox/SPARK/Data/'\n",
    "df=spark.read.options(header=\"True\",inferSchema=\"True\").csv( \"census-income.csv\")"
   ]
  },
  {
   "cell_type": "code",
   "execution_count": 58,
   "metadata": {},
   "outputs": [
    {
     "name": "stdout",
     "output_type": "stream",
     "text": [
      "root\n",
      " |-- age: integer (nullable = true)\n",
      " |-- class of worker: string (nullable = true)\n",
      " |-- industry code: integer (nullable = true)\n",
      " |-- occupation code: integer (nullable = true)\n",
      " |-- education: string (nullable = true)\n",
      " |-- wage per hour: integer (nullable = true)\n",
      " |-- enrolled in edu inst last wk: string (nullable = true)\n",
      " |-- marital status: string (nullable = true)\n",
      " |-- major industry code: string (nullable = true)\n",
      " |-- major occupation code: string (nullable = true)\n",
      " |-- mace: string (nullable = true)\n",
      " |-- hispanic Origin: string (nullable = true)\n",
      " |-- sex: string (nullable = true)\n",
      " |-- member of a labor union: string (nullable = true)\n",
      " |-- reason for unemployment: string (nullable = true)\n",
      " |-- full or part time employment stat: string (nullable = true)\n",
      " |-- capital gains: integer (nullable = true)\n",
      " |-- capital losses: integer (nullable = true)\n",
      " |-- divdends from stocks: integer (nullable = true)\n",
      " |-- federal income tax liability: string (nullable = true)\n",
      " |-- tax filer status: string (nullable = true)\n",
      " |-- region of previous residence: string (nullable = true)\n",
      " |-- state of previous residence: string (nullable = true)\n",
      " |-- detailed household and family stat: string (nullable = true)\n",
      " |-- detailed household summary in household: double (nullable = true)\n",
      " |-- instance weight: string (nullable = true)\n",
      " |-- migration code-change in msa: string (nullable = true)\n",
      " |-- migration code-change in reg: string (nullable = true)\n",
      " |-- migration code-move within reg: string (nullable = true)\n",
      " |-- live in this house 1 year ago: string (nullable = true)\n",
      " |-- family members under 18: integer (nullable = true)\n",
      " |-- total person earnings: string (nullable = true)\n",
      " |-- country of birth father: string (nullable = true)\n",
      " |-- country of birth mother: string (nullable = true)\n",
      " |-- country of birth self: string (nullable = true)\n",
      " |-- citizenship: string (nullable = true)\n",
      " |-- total person income: integer (nullable = true)\n",
      " |-- own business or self employed: string (nullable = true)\n",
      " |-- taxable income amount: integer (nullable = true)\n",
      " |-- hours per week: integer (nullable = true)\n",
      " |-- veterans benefits: integer (nullable = true)\n",
      " |-- income: string (nullable = true)\n",
      "\n"
     ]
    }
   ],
   "source": [
    "df.printSchema()"
   ]
  },
  {
   "cell_type": "code",
   "execution_count": 59,
   "metadata": {},
   "outputs": [
    {
     "data": {
      "text/plain": [
       "199523"
      ]
     },
     "execution_count": 59,
     "metadata": {},
     "output_type": "execute_result"
    }
   ],
   "source": [
    "df.count()"
   ]
  },
  {
   "cell_type": "code",
   "execution_count": 60,
   "metadata": {},
   "outputs": [
    {
     "data": {
      "text/plain": [
       "42"
      ]
     },
     "execution_count": 60,
     "metadata": {},
     "output_type": "execute_result"
    }
   ],
   "source": [
    "len(df.columns)"
   ]
  },
  {
   "cell_type": "code",
   "execution_count": 61,
   "metadata": {},
   "outputs": [
    {
     "name": "stdout",
     "output_type": "stream",
     "text": [
      "Number of row: 143531\n"
     ]
    }
   ],
   "source": [
    "adult_df = df.filter(df['age'] >= 18)\n",
    "print(\"Number of row: {}\".format(adult_df.count()))"
   ]
  },
  {
   "cell_type": "code",
   "execution_count": 62,
   "metadata": {},
   "outputs": [
    {
     "name": "stdout",
     "output_type": "stream",
     "text": [
      "+------+--------------------+-------------+---------------+--------------------+-------------+----------------------------+\n",
      "|income|     class of worker|industry code|occupation code|           education|wage per hour|enrolled in edu inst last wk|\n",
      "+------+--------------------+-------------+---------------+--------------------+-------------+----------------------------+\n",
      "|-50000|     Not in universe|            0|              0| High school grad...|            0|             Not in universe|\n",
      "|-50000| Self-employed-no...|            4|             34| Some college but...|            0|             Not in universe|\n",
      "|-50000|     Not in universe|            0|              0|          10th grade|            0|                 High school|\n",
      "|-50000|             Private|           40|             10| Some college but...|         1200|             Not in universe|\n",
      "|-50000|             Private|           34|              3| Bachelors degree...|            0|             Not in universe|\n",
      "|-50000|             Private|            4|             40| High school grad...|            0|             Not in universe|\n",
      "|-50000|    Local government|           43|             26| Some college but...|          876|             Not in universe|\n",
      "|-50000|             Private|            4|             37| Some college but...|            0|             Not in universe|\n",
      "|-50000|     Not in universe|            0|              0| High school grad...|            0|             Not in universe|\n",
      "|-50000|             Private|            4|             34| Some college but...|            0|             Not in universe|\n",
      "+------+--------------------+-------------+---------------+--------------------+-------------+----------------------------+\n",
      "only showing top 10 rows\n",
      "\n"
     ]
    }
   ],
   "source": [
    "adult_df.select('income','class of worker','industry code','occupation code','education','wage per hour','enrolled in edu inst last wk').show(10)"
   ]
  },
  {
   "cell_type": "code",
   "execution_count": 63,
   "metadata": {},
   "outputs": [
    {
     "name": "stdout",
     "output_type": "stream",
     "text": [
      "+--------------------+--------------------+--------------------+---------------+-------+-----------------------+\n",
      "|      marital status| major industry code|                mace|hispanic Origin|    sex|member of a labor union|\n",
      "+--------------------+--------------------+--------------------+---------------+-------+-----------------------+\n",
      "|             Widowed| Not in universe ...|               White|      All other| Female|        Not in universe|\n",
      "|            Divorced|        Construction|               White|      All other|   Male|        Not in universe|\n",
      "|       Never married| Not in universe ...| Asian or Pacific...|      All other| Female|        Not in universe|\n",
      "|       Never married| Not in universe ...|               White|      All other| Female|        Not in universe|\n",
      "|       Never married| Not in universe ...|               White|      All other| Female|        Not in universe|\n",
      "| Married-civilian...|       Entertainment| Amer Indian Aleu...|      All other| Female|                     No|\n",
      "| Married-civilian...| Finance insuranc...|               White|      All other|   Male|        Not in universe|\n",
      "|       Never married|        Construction|               White|      All other| Female|        Not in universe|\n",
      "| Married-civilian...|           Education|               White|      All other| Female|                     No|\n",
      "| Married-civilian...|        Construction|               White|      All other|   Male|        Not in universe|\n",
      "+--------------------+--------------------+--------------------+---------------+-------+-----------------------+\n",
      "only showing top 10 rows\n",
      "\n"
     ]
    }
   ],
   "source": [
    "df.select('marital status','major industry code','mace','hispanic Origin','sex','member of a labor union').show(10)"
   ]
  },
  {
   "cell_type": "code",
   "execution_count": 64,
   "metadata": {},
   "outputs": [
    {
     "name": "stdout",
     "output_type": "stream",
     "text": [
      "+-----------------------+---------------------------------+-------------+--------------+--------------------+\n",
      "|reason for unemployment|full or part time employment stat|capital gains|capital losses|divdends from stocks|\n",
      "+-----------------------+---------------------------------+-------------+--------------+--------------------+\n",
      "|        Not in universe|               Not in labor force|            0|             0|                   0|\n",
      "|        Not in universe|              Children or Arme...|            0|             0|                   0|\n",
      "|        Not in universe|               Not in labor force|            0|             0|                   0|\n",
      "|        Not in universe|              Children or Arme...|            0|             0|                   0|\n",
      "|        Not in universe|              Children or Arme...|            0|             0|                   0|\n",
      "|        Not in universe|              Full-time schedules|            0|             0|                   0|\n",
      "|        Not in universe|              Children or Arme...|         5178|             0|                   0|\n",
      "|    Job loser - on l...|              Unemployed full-...|            0|             0|                   0|\n",
      "|        Not in universe|              Full-time schedules|            0|             0|                   0|\n",
      "|        Not in universe|              Children or Arme...|            0|             0|                   0|\n",
      "+-----------------------+---------------------------------+-------------+--------------+--------------------+\n",
      "only showing top 10 rows\n",
      "\n"
     ]
    }
   ],
   "source": [
    "df.select('reason for unemployment','full or part time employment stat','capital gains','capital losses','divdends from stocks').show(10)"
   ]
  },
  {
   "cell_type": "code",
   "execution_count": 65,
   "metadata": {},
   "outputs": [
    {
     "name": "stdout",
     "output_type": "stream",
     "text": [
      "+----------------------------+----------------+----------------------------+---------------------------+\n",
      "|federal income tax liability|tax filer status|region of previous residence|state of previous residence|\n",
      "+----------------------------+----------------+----------------------------+---------------------------+\n",
      "|                    Nonfiler| Not in universe|             Not in universe|        Other Rel 18+ ev...|\n",
      "|           Head of household|           South|                    Arkansas|                Householder|\n",
      "|                    Nonfiler| Not in universe|             Not in universe|        Child 18+ never ...|\n",
      "|                    Nonfiler| Not in universe|             Not in universe|        Child <18 never ...|\n",
      "|                    Nonfiler| Not in universe|             Not in universe|        Child <18 never ...|\n",
      "|         Joint both under 65| Not in universe|             Not in universe|        Spouse of househ...|\n",
      "|         Joint both under 65| Not in universe|             Not in universe|                Householder|\n",
      "|                      Single| Not in universe|             Not in universe|        Secondary indivi...|\n",
      "|         Joint both under 65| Not in universe|             Not in universe|        Spouse of househ...|\n",
      "|         Joint both under 65| Not in universe|             Not in universe|                Householder|\n",
      "+----------------------------+----------------+----------------------------+---------------------------+\n",
      "only showing top 10 rows\n",
      "\n"
     ]
    }
   ],
   "source": [
    "df.select('federal income tax liability','tax filer status','region of previous residence','state of previous residence').show(10)"
   ]
  },
  {
   "cell_type": "code",
   "execution_count": 66,
   "metadata": {},
   "outputs": [
    {
     "name": "stdout",
     "output_type": "stream",
     "text": [
      "+----------------------------------+----------------------------+----------------------------+------------------------------+\n",
      "|detailed household and family stat|migration code-change in msa|migration code-change in reg|migration code-move within reg|\n",
      "+----------------------------------+----------------------------+----------------------------+------------------------------+\n",
      "|               Other relative o...|                           ?|                           ?|           Not in universe ...|\n",
      "|                       Householder|                 Same county|                 Same county|                            No|\n",
      "|                 Child 18 or older|                           ?|                           ?|           Not in universe ...|\n",
      "|               Child under 18 n...|                    Nonmover|                    Nonmover|                           Yes|\n",
      "|               Child under 18 n...|                    Nonmover|                    Nonmover|                           Yes|\n",
      "|               Spouse of househ...|                           ?|                           ?|           Not in universe ...|\n",
      "|                       Householder|                    Nonmover|                    Nonmover|                           Yes|\n",
      "|               Nonrelative of h...|                           ?|                           ?|           Not in universe ...|\n",
      "|               Spouse of househ...|                           ?|                           ?|           Not in universe ...|\n",
      "|                       Householder|                    Nonmover|                    Nonmover|                           Yes|\n",
      "+----------------------------------+----------------------------+----------------------------+------------------------------+\n",
      "only showing top 10 rows\n",
      "\n"
     ]
    }
   ],
   "source": [
    "df.select('detailed household and family stat','migration code-change in msa','migration code-change in reg','migration code-move within reg').show(10)"
   ]
  },
  {
   "cell_type": "code",
   "execution_count": 67,
   "metadata": {},
   "outputs": [
    {
     "name": "stdout",
     "output_type": "stream",
     "text": [
      "+-----------------------------+---------------+-----------------------+---------------------+-----------------------+\n",
      "|live in this house 1 year ago|instance weight|family members under 18|total person earnings|country of birth father|\n",
      "+-----------------------------+---------------+-----------------------+---------------------+-----------------------+\n",
      "|                            ?|              ?|                      0|      Not in universe|          United-States|\n",
      "|                          Yes|     MSA to MSA|                      1|      Not in universe|          United-States|\n",
      "|                            ?|              ?|                      0|      Not in universe|                Vietnam|\n",
      "|              Not in universe|       Nonmover|                      0|  Both parents pre...|          United-States|\n",
      "|              Not in universe|       Nonmover|                      0|  Both parents pre...|          United-States|\n",
      "|                            ?|              ?|                      1|      Not in universe|            Philippines|\n",
      "|              Not in universe|       Nonmover|                      6|      Not in universe|          United-States|\n",
      "|                            ?|              ?|                      4|      Not in universe|          United-States|\n",
      "|                            ?|              ?|                      5|      Not in universe|          United-States|\n",
      "|              Not in universe|       Nonmover|                      6|      Not in universe|          United-States|\n",
      "+-----------------------------+---------------+-----------------------+---------------------+-----------------------+\n",
      "only showing top 10 rows\n",
      "\n"
     ]
    }
   ],
   "source": [
    "df.select('live in this house 1 year ago','instance weight','family members under 18','total person earnings','country of birth father').show(10)"
   ]
  },
  {
   "cell_type": "code",
   "execution_count": 68,
   "metadata": {},
   "outputs": [
    {
     "name": "stdout",
     "output_type": "stream",
     "text": [
      "+-----------------------+---------------------+--------------------+-------------------+\n",
      "|country of birth mother|country of birth self|         citizenship|total person income|\n",
      "+-----------------------+---------------------+--------------------+-------------------+\n",
      "|          United-States|        United-States| Native- Born in ...|                  0|\n",
      "|          United-States|        United-States| Native- Born in ...|                  0|\n",
      "|                Vietnam|              Vietnam| Foreign born- No...|                  0|\n",
      "|          United-States|        United-States| Native- Born in ...|                  0|\n",
      "|          United-States|        United-States| Native- Born in ...|                  0|\n",
      "|          United-States|        United-States| Native- Born in ...|                  2|\n",
      "|          United-States|        United-States| Native- Born in ...|                  0|\n",
      "|          United-States|        United-States| Native- Born in ...|                  0|\n",
      "|          United-States|        United-States| Native- Born in ...|                  0|\n",
      "|          United-States|        United-States| Native- Born in ...|                  0|\n",
      "+-----------------------+---------------------+--------------------+-------------------+\n",
      "only showing top 10 rows\n",
      "\n"
     ]
    }
   ],
   "source": [
    "df.select('country of birth mother','country of birth self','citizenship','total person income').show(10)"
   ]
  },
  {
   "cell_type": "code",
   "execution_count": 69,
   "metadata": {},
   "outputs": [
    {
     "name": "stdout",
     "output_type": "stream",
     "text": [
      "+-----------------------------+---------------------+--------------+-----------------+\n",
      "|own business or self employed|taxable income amount|hours per week|veterans benefits|\n",
      "+-----------------------------+---------------------+--------------+-----------------+\n",
      "|              Not in universe|                    2|             0|               95|\n",
      "|              Not in universe|                    2|            52|               94|\n",
      "|              Not in universe|                    2|             0|               95|\n",
      "|              Not in universe|                    0|             0|               94|\n",
      "|              Not in universe|                    0|             0|               94|\n",
      "|              Not in universe|                    2|            52|               95|\n",
      "|              Not in universe|                    2|            52|               94|\n",
      "|              Not in universe|                    2|            30|               95|\n",
      "|              Not in universe|                    2|            52|               95|\n",
      "|              Not in universe|                    2|            52|               94|\n",
      "+-----------------------------+---------------------+--------------+-----------------+\n",
      "only showing top 10 rows\n",
      "\n"
     ]
    }
   ],
   "source": [
    "df.select('own business or self employed','taxable income amount','hours per week','veterans benefits').show(10)"
   ]
  },
  {
   "cell_type": "code",
   "execution_count": 70,
   "metadata": {},
   "outputs": [],
   "source": [
    "adult_df = adult_df.replace(' ?', None)\n",
    "adult_df = adult_df.replace('Not in universe', None)\n",
    "adult_df = adult_df.replace(' Not in universe', None)\n",
    "adult_df = adult_df.replace(' Not in universe or children', None)"
   ]
  },
  {
   "cell_type": "code",
   "execution_count": 71,
   "metadata": {},
   "outputs": [
    {
     "name": "stdout",
     "output_type": "stream",
     "text": [
      "Number null value in class of worker: 46996\n",
      "Number null value in enrolled in edu inst last wk: 136243\n",
      "Number null value in major industry code: 47189\n",
      "Number null value in major occupation code: 47189\n",
      "Number null value in member of a labor union: 124912\n",
      "Number null value in reason for unemployment: 137993\n",
      "Number null value in tax filer status: 132083\n",
      "Number null value in region of previous residence: 132617\n",
      "Number null value in instance weight: 71811\n",
      "Number null value in migration code-change in msa: 71811\n",
      "Number null value in migration code-change in reg: 71811\n",
      "Number null value in live in this house 1 year ago: 132083\n",
      "Number null value in total person earnings: 143531\n",
      "Number null value in country of birth father: 5538\n",
      "Number null value in country of birth mother: 5003\n",
      "Number null value in country of birth self: 2957\n",
      "Number null value in own business or self employed: 141550\n"
     ]
    }
   ],
   "source": [
    "count_null = adult_df.select([count(when(isnan(c) | col(c).isNull(), c)).alias(c) for c in adult_df.columns])\n",
    "for i in count_null.columns:\n",
    "    if count_null.select(i).collect()[0][0] != 0:\n",
    "        print('Number null value in {}: {}'.format(i,count_null.select(i).collect()[0][0]))"
   ]
  },
  {
   "cell_type": "code",
   "execution_count": 72,
   "metadata": {},
   "outputs": [],
   "source": [
    "df_Columns=[\"enrolled in edu inst last wk\",\n",
    "            \"member of a labor union\",\n",
    "            \"reason for unemployment\",\n",
    "            \"tax filer status\",\n",
    "            'region of previous residence',\n",
    "            'live in this house 1 year ago',\n",
    "            'total person earnings',\n",
    "            'own business or self employed'\n",
    "           ]"
   ]
  },
  {
   "cell_type": "code",
   "execution_count": 73,
   "metadata": {},
   "outputs": [
    {
     "name": "stdout",
     "output_type": "stream",
     "text": [
      "Number of collumns: 34\n"
     ]
    }
   ],
   "source": [
    "adult_df = adult_df.drop(*df_Columns)\n",
    "print(\"Number of collumns: {}\".format(len(adult_df.columns)))"
   ]
  },
  {
   "cell_type": "code",
   "execution_count": 74,
   "metadata": {},
   "outputs": [],
   "source": [
    "columns = ['class of worker','major occupation code','major industry code','instance weight','migration code-change in msa','migration code-change in reg']\n",
    "for column in columns:\n",
    "    adult_df = adult_df.withColumn(column,F.when(col(column).isNull(),'None').otherwise(F.col(column)))"
   ]
  },
  {
   "cell_type": "code",
   "execution_count": 75,
   "metadata": {},
   "outputs": [
    {
     "data": {
      "text/html": [
       "<div>\n",
       "<style scoped>\n",
       "    .dataframe tbody tr th:only-of-type {\n",
       "        vertical-align: middle;\n",
       "    }\n",
       "\n",
       "    .dataframe tbody tr th {\n",
       "        vertical-align: top;\n",
       "    }\n",
       "\n",
       "    .dataframe thead th {\n",
       "        text-align: right;\n",
       "    }\n",
       "</style>\n",
       "<table border=\"1\" class=\"dataframe\">\n",
       "  <thead>\n",
       "    <tr style=\"text-align: right;\">\n",
       "      <th></th>\n",
       "      <th>age</th>\n",
       "      <th>class of worker</th>\n",
       "      <th>industry code</th>\n",
       "      <th>occupation code</th>\n",
       "      <th>education</th>\n",
       "      <th>wage per hour</th>\n",
       "      <th>marital status</th>\n",
       "      <th>major industry code</th>\n",
       "      <th>major occupation code</th>\n",
       "      <th>mace</th>\n",
       "      <th>...</th>\n",
       "      <th>family members under 18</th>\n",
       "      <th>country of birth father</th>\n",
       "      <th>country of birth mother</th>\n",
       "      <th>country of birth self</th>\n",
       "      <th>citizenship</th>\n",
       "      <th>total person income</th>\n",
       "      <th>taxable income amount</th>\n",
       "      <th>hours per week</th>\n",
       "      <th>veterans benefits</th>\n",
       "      <th>income</th>\n",
       "    </tr>\n",
       "  </thead>\n",
       "  <tbody>\n",
       "    <tr>\n",
       "      <th>0</th>\n",
       "      <td>73</td>\n",
       "      <td>None</td>\n",
       "      <td>0</td>\n",
       "      <td>0</td>\n",
       "      <td>High school graduate</td>\n",
       "      <td>0</td>\n",
       "      <td>Widowed</td>\n",
       "      <td>None</td>\n",
       "      <td>None</td>\n",
       "      <td>White</td>\n",
       "      <td>...</td>\n",
       "      <td>0</td>\n",
       "      <td>United-States</td>\n",
       "      <td>United-States</td>\n",
       "      <td>United-States</td>\n",
       "      <td>Native- Born in the United States</td>\n",
       "      <td>0</td>\n",
       "      <td>2</td>\n",
       "      <td>0</td>\n",
       "      <td>95</td>\n",
       "      <td>-50000</td>\n",
       "    </tr>\n",
       "    <tr>\n",
       "      <th>1</th>\n",
       "      <td>58</td>\n",
       "      <td>Self-employed-not incorporated</td>\n",
       "      <td>4</td>\n",
       "      <td>34</td>\n",
       "      <td>Some college but no degree</td>\n",
       "      <td>0</td>\n",
       "      <td>Divorced</td>\n",
       "      <td>Construction</td>\n",
       "      <td>Precision production craft &amp; repair</td>\n",
       "      <td>White</td>\n",
       "      <td>...</td>\n",
       "      <td>1</td>\n",
       "      <td>United-States</td>\n",
       "      <td>United-States</td>\n",
       "      <td>United-States</td>\n",
       "      <td>Native- Born in the United States</td>\n",
       "      <td>0</td>\n",
       "      <td>2</td>\n",
       "      <td>52</td>\n",
       "      <td>94</td>\n",
       "      <td>-50000</td>\n",
       "    </tr>\n",
       "    <tr>\n",
       "      <th>2</th>\n",
       "      <td>18</td>\n",
       "      <td>None</td>\n",
       "      <td>0</td>\n",
       "      <td>0</td>\n",
       "      <td>10th grade</td>\n",
       "      <td>0</td>\n",
       "      <td>Never married</td>\n",
       "      <td>None</td>\n",
       "      <td>None</td>\n",
       "      <td>Asian or Pacific Islander</td>\n",
       "      <td>...</td>\n",
       "      <td>0</td>\n",
       "      <td>Vietnam</td>\n",
       "      <td>Vietnam</td>\n",
       "      <td>Vietnam</td>\n",
       "      <td>Foreign born- Not a citizen of U S</td>\n",
       "      <td>0</td>\n",
       "      <td>2</td>\n",
       "      <td>0</td>\n",
       "      <td>95</td>\n",
       "      <td>-50000</td>\n",
       "    </tr>\n",
       "    <tr>\n",
       "      <th>3</th>\n",
       "      <td>48</td>\n",
       "      <td>Private</td>\n",
       "      <td>40</td>\n",
       "      <td>10</td>\n",
       "      <td>Some college but no degree</td>\n",
       "      <td>1200</td>\n",
       "      <td>Married-civilian spouse present</td>\n",
       "      <td>Entertainment</td>\n",
       "      <td>Professional specialty</td>\n",
       "      <td>Amer Indian Aleut or Eskimo</td>\n",
       "      <td>...</td>\n",
       "      <td>1</td>\n",
       "      <td>Philippines</td>\n",
       "      <td>United-States</td>\n",
       "      <td>United-States</td>\n",
       "      <td>Native- Born in the United States</td>\n",
       "      <td>2</td>\n",
       "      <td>2</td>\n",
       "      <td>52</td>\n",
       "      <td>95</td>\n",
       "      <td>-50000</td>\n",
       "    </tr>\n",
       "    <tr>\n",
       "      <th>4</th>\n",
       "      <td>42</td>\n",
       "      <td>Private</td>\n",
       "      <td>34</td>\n",
       "      <td>3</td>\n",
       "      <td>Bachelors degree(BA AB BS)</td>\n",
       "      <td>0</td>\n",
       "      <td>Married-civilian spouse present</td>\n",
       "      <td>Finance insurance and real estate</td>\n",
       "      <td>Executive admin and managerial</td>\n",
       "      <td>White</td>\n",
       "      <td>...</td>\n",
       "      <td>6</td>\n",
       "      <td>United-States</td>\n",
       "      <td>United-States</td>\n",
       "      <td>United-States</td>\n",
       "      <td>Native- Born in the United States</td>\n",
       "      <td>0</td>\n",
       "      <td>2</td>\n",
       "      <td>52</td>\n",
       "      <td>94</td>\n",
       "      <td>-50000</td>\n",
       "    </tr>\n",
       "  </tbody>\n",
       "</table>\n",
       "<p>5 rows × 34 columns</p>\n",
       "</div>"
      ],
      "text/plain": [
       "   age                  class of worker  industry code  occupation code  \\\n",
       "0   73                             None              0                0   \n",
       "1   58   Self-employed-not incorporated              4               34   \n",
       "2   18                             None              0                0   \n",
       "3   48                          Private             40               10   \n",
       "4   42                          Private             34                3   \n",
       "\n",
       "                     education  wage per hour  \\\n",
       "0         High school graduate              0   \n",
       "1   Some college but no degree              0   \n",
       "2                   10th grade              0   \n",
       "3   Some college but no degree           1200   \n",
       "4   Bachelors degree(BA AB BS)              0   \n",
       "\n",
       "                     marital status                 major industry code  \\\n",
       "0                           Widowed                                None   \n",
       "1                          Divorced                        Construction   \n",
       "2                     Never married                                None   \n",
       "3   Married-civilian spouse present                       Entertainment   \n",
       "4   Married-civilian spouse present   Finance insurance and real estate   \n",
       "\n",
       "                  major occupation code                          mace  ...  \\\n",
       "0                                  None                         White  ...   \n",
       "1   Precision production craft & repair                         White  ...   \n",
       "2                                  None     Asian or Pacific Islander  ...   \n",
       "3                Professional specialty   Amer Indian Aleut or Eskimo  ...   \n",
       "4        Executive admin and managerial                         White  ...   \n",
       "\n",
       "  family members under 18 country of birth father country of birth mother  \\\n",
       "0                       0           United-States           United-States   \n",
       "1                       1           United-States           United-States   \n",
       "2                       0                 Vietnam                 Vietnam   \n",
       "3                       1             Philippines           United-States   \n",
       "4                       6           United-States           United-States   \n",
       "\n",
       "   country of birth self                           citizenship  \\\n",
       "0          United-States     Native- Born in the United States   \n",
       "1          United-States     Native- Born in the United States   \n",
       "2                Vietnam   Foreign born- Not a citizen of U S    \n",
       "3          United-States     Native- Born in the United States   \n",
       "4          United-States     Native- Born in the United States   \n",
       "\n",
       "   total person income taxable income amount hours per week veterans benefits  \\\n",
       "0                    0                     2              0                95   \n",
       "1                    0                     2             52                94   \n",
       "2                    0                     2              0                95   \n",
       "3                    2                     2             52                95   \n",
       "4                    0                     2             52                94   \n",
       "\n",
       "   income  \n",
       "0  -50000  \n",
       "1  -50000  \n",
       "2  -50000  \n",
       "3  -50000  \n",
       "4  -50000  \n",
       "\n",
       "[5 rows x 34 columns]"
      ]
     },
     "execution_count": 75,
     "metadata": {},
     "output_type": "execute_result"
    }
   ],
   "source": [
    "pandasdf = adult_df.toPandas()\n",
    "pandasdf.head()"
   ]
  },
  {
   "cell_type": "code",
   "execution_count": 76,
   "metadata": {},
   "outputs": [
    {
     "data": {
      "text/plain": [
       "<Figure size 720x1080 with 0 Axes>"
      ]
     },
     "metadata": {},
     "output_type": "display_data"
    },
    {
     "data": {
      "image/png": "[encoded data removed]",
      "text/plain": [
       "<Figure size 432x288 with 1 Axes>"
      ]
     },
     "metadata": {},
     "output_type": "display_data"
    }
   ],
   "source": [
    "var = \"class of worker\"\n",
    "plt.figure(figsize=(10, 15))\n",
    "labels = pandasdf[var].unique()\n",
    "sizes = [pandasdf[var].value_counts()[0],\n",
    "         pandasdf[var].value_counts()[1],\n",
    "         pandasdf[var].value_counts()[2],\n",
    "         pandasdf[var].value_counts()[3],\n",
    "         pandasdf[var].value_counts()[4],\n",
    "         pandasdf[var].value_counts()[5],\n",
    "         pandasdf[var].value_counts()[6],\n",
    "         pandasdf[var].value_counts()[7],\n",
    "         pandasdf[var].value_counts()[8]\n",
    "        ]\n",
    "fig1, ax1 = plt.subplots()\n",
    "ax1.pie(sizes, labels=labels, autopct='%1.1f%%', shadow=False)\n",
    "ax1.axis('equal')\n",
    "plt.title(var, fontsize=15);\n",
    "plt.show()"
   ]
  },
  {
   "cell_type": "code",
   "execution_count": 77,
   "metadata": {},
   "outputs": [],
   "source": [
    "adult_df = adult_df.na.drop()"
   ]
  },
  {
   "cell_type": "code",
   "execution_count": 78,
   "metadata": {},
   "outputs": [
    {
     "name": "stdout",
     "output_type": "stream",
     "text": [
      "Number of row: 136826\n"
     ]
    }
   ],
   "source": [
    "print(\"Number of row: {}\".format(adult_df.count()))"
   ]
  },
  {
   "cell_type": "code",
   "execution_count": 79,
   "metadata": {},
   "outputs": [
    {
     "name": "stdout",
     "output_type": "stream",
     "text": [
      "Number of columns: 34\n"
     ]
    }
   ],
   "source": [
    "print(\"Number of columns: {}\".format(len(adult_df.columns)))"
   ]
  },
  {
   "cell_type": "code",
   "execution_count": 80,
   "metadata": {},
   "outputs": [
    {
     "name": "stdout",
     "output_type": "stream",
     "text": [
      "+------+\n",
      "|income|\n",
      "+------+\n",
      "|     1|\n",
      "|     0|\n",
      "+------+\n",
      "\n"
     ]
    }
   ],
   "source": [
    "adult_df = adult_df.withColumn('income', when(adult_df.income == '-50000',0).\n",
    "                              when(adult_df.income == ' 50000+.',1))\n",
    "adult_df.select('income').distinct().show()"
   ]
  },
  {
   "cell_type": "code",
   "execution_count": 81,
   "metadata": {},
   "outputs": [
    {
     "data": {
      "text/plain": [
       "(14,\n",
       " ['age',\n",
       "  'industry code',\n",
       "  'occupation code',\n",
       "  'wage per hour',\n",
       "  'capital gains',\n",
       "  'capital losses',\n",
       "  'divdends from stocks',\n",
       "  'detailed household summary in household',\n",
       "  'family members under 18',\n",
       "  'total person income',\n",
       "  'taxable income amount',\n",
       "  'hours per week',\n",
       "  'veterans benefits',\n",
       "  'income'])"
      ]
     },
     "execution_count": 81,
     "metadata": {},
     "output_type": "execute_result"
    }
   ],
   "source": [
    "numeric_cols = [i.name for i in adult_df.schema if (type(i.dataType) == T.IntegerType or type(i.dataType) == T.DoubleType) ]\n",
    "len(numeric_cols), numeric_cols"
   ]
  },
  {
   "cell_type": "code",
   "execution_count": 82,
   "metadata": {},
   "outputs": [],
   "source": [
    "import warnings\n",
    "warnings.filterwarnings('ignore')"
   ]
  },
  {
   "cell_type": "code",
   "execution_count": 83,
   "metadata": {},
   "outputs": [],
   "source": [
    "def corr(df):\n",
    "    vector_col = \"corr_features\"\n",
    "    assembler = VectorAssembler(inputCols=df.columns, outputCol=vector_col)\n",
    "    df_vector = assembler.transform(df).select(vector_col)\n",
    "\n",
    "    # get correlation matrix\n",
    "    matrix = Correlation.corr(df_vector, vector_col)\n",
    "    return matrix.collect()[0][\"pearson({})\".format(vector_col)].values[1]"
   ]
  },
  {
   "cell_type": "code",
   "execution_count": 84,
   "metadata": {},
   "outputs": [
    {
     "name": "stdout",
     "output_type": "stream",
     "text": [
      "Correlation age ~ income: 0.030237055671732307\n",
      "Correlation industry code ~ income: 0.13769485386942845\n",
      "Correlation occupation code ~ income: -0.06594896514002682\n",
      "Correlation wage per hour ~ income: 0.005655478269135651\n",
      "Correlation capital gains ~ income: 0.2341283178107934\n",
      "Correlation capital losses ~ income: 0.1385568198829209\n",
      "Correlation divdends from stocks ~ income: 0.16783592500201036\n",
      "Correlation detailed household summary in household ~ income: 0.008041787215171839\n",
      "Correlation family members under 18 ~ income: 0.17174989316037165\n",
      "Correlation total person income ~ income: 0.012417869564819915\n",
      "Correlation taxable income amount ~ income: -0.014181939364955497\n",
      "Correlation hours per week ~ income: 0.21138779808022037\n",
      "Correlation veterans benefits ~ income: 0.017418923227909156\n",
      "Correlation income ~ income: 1.0000000000000002\n"
     ]
    }
   ],
   "source": [
    "for cols in numeric_cols:\n",
    "    print('Correlation {} ~ income: {}'.format(cols,corr(adult_df.select([cols,'income']))))"
   ]
  },
  {
   "cell_type": "code",
   "execution_count": 85,
   "metadata": {},
   "outputs": [],
   "source": [
    "string_cols = [i.name for i in adult_df.schema if type(i.dataType) == T.StringType]"
   ]
  },
  {
   "cell_type": "code",
   "execution_count": 86,
   "metadata": {},
   "outputs": [
    {
     "data": {
      "text/plain": [
       "(20,\n",
       " ['class of worker',\n",
       "  'education',\n",
       "  'marital status',\n",
       "  'major industry code',\n",
       "  'major occupation code',\n",
       "  'mace',\n",
       "  'hispanic Origin',\n",
       "  'sex',\n",
       "  'full or part time employment stat',\n",
       "  'federal income tax liability',\n",
       "  'state of previous residence',\n",
       "  'detailed household and family stat',\n",
       "  'instance weight',\n",
       "  'migration code-change in msa',\n",
       "  'migration code-change in reg',\n",
       "  'migration code-move within reg',\n",
       "  'country of birth father',\n",
       "  'country of birth mother',\n",
       "  'country of birth self',\n",
       "  'citizenship'])"
      ]
     },
     "execution_count": 86,
     "metadata": {},
     "output_type": "execute_result"
    }
   ],
   "source": [
    "len(string_cols), string_cols"
   ]
  },
  {
   "cell_type": "code",
   "execution_count": 87,
   "metadata": {},
   "outputs": [],
   "source": [
    "import statsmodels.api as sm\n",
    "from statsmodels.formula.api import ols"
   ]
  },
  {
   "cell_type": "code",
   "execution_count": 88,
   "metadata": {},
   "outputs": [
    {
     "data": {
      "text/html": [
       "<div>\n",
       "<style scoped>\n",
       "    .dataframe tbody tr th:only-of-type {\n",
       "        vertical-align: middle;\n",
       "    }\n",
       "\n",
       "    .dataframe tbody tr th {\n",
       "        vertical-align: top;\n",
       "    }\n",
       "\n",
       "    .dataframe thead th {\n",
       "        text-align: right;\n",
       "    }\n",
       "</style>\n",
       "<table border=\"1\" class=\"dataframe\">\n",
       "  <thead>\n",
       "    <tr style=\"text-align: right;\">\n",
       "      <th></th>\n",
       "      <th>age</th>\n",
       "      <th>class of worker</th>\n",
       "      <th>industry code</th>\n",
       "      <th>occupation code</th>\n",
       "      <th>education</th>\n",
       "      <th>wage per hour</th>\n",
       "      <th>marital status</th>\n",
       "      <th>major industry code</th>\n",
       "      <th>major occupation code</th>\n",
       "      <th>mace</th>\n",
       "      <th>...</th>\n",
       "      <th>family members under 18</th>\n",
       "      <th>country of birth father</th>\n",
       "      <th>country of birth mother</th>\n",
       "      <th>country of birth self</th>\n",
       "      <th>citizenship</th>\n",
       "      <th>total person income</th>\n",
       "      <th>taxable income amount</th>\n",
       "      <th>hours per week</th>\n",
       "      <th>veterans benefits</th>\n",
       "      <th>income</th>\n",
       "    </tr>\n",
       "  </thead>\n",
       "  <tbody>\n",
       "    <tr>\n",
       "      <th>0</th>\n",
       "      <td>73</td>\n",
       "      <td>None</td>\n",
       "      <td>0</td>\n",
       "      <td>0</td>\n",
       "      <td>High school graduate</td>\n",
       "      <td>0</td>\n",
       "      <td>Widowed</td>\n",
       "      <td>None</td>\n",
       "      <td>None</td>\n",
       "      <td>White</td>\n",
       "      <td>...</td>\n",
       "      <td>0</td>\n",
       "      <td>United-States</td>\n",
       "      <td>United-States</td>\n",
       "      <td>United-States</td>\n",
       "      <td>Native- Born in the United States</td>\n",
       "      <td>0</td>\n",
       "      <td>2</td>\n",
       "      <td>0</td>\n",
       "      <td>95</td>\n",
       "      <td>0</td>\n",
       "    </tr>\n",
       "    <tr>\n",
       "      <th>1</th>\n",
       "      <td>58</td>\n",
       "      <td>Self-employed-not incorporated</td>\n",
       "      <td>4</td>\n",
       "      <td>34</td>\n",
       "      <td>Some college but no degree</td>\n",
       "      <td>0</td>\n",
       "      <td>Divorced</td>\n",
       "      <td>Construction</td>\n",
       "      <td>Precision production craft &amp; repair</td>\n",
       "      <td>White</td>\n",
       "      <td>...</td>\n",
       "      <td>1</td>\n",
       "      <td>United-States</td>\n",
       "      <td>United-States</td>\n",
       "      <td>United-States</td>\n",
       "      <td>Native- Born in the United States</td>\n",
       "      <td>0</td>\n",
       "      <td>2</td>\n",
       "      <td>52</td>\n",
       "      <td>94</td>\n",
       "      <td>0</td>\n",
       "    </tr>\n",
       "    <tr>\n",
       "      <th>2</th>\n",
       "      <td>18</td>\n",
       "      <td>None</td>\n",
       "      <td>0</td>\n",
       "      <td>0</td>\n",
       "      <td>10th grade</td>\n",
       "      <td>0</td>\n",
       "      <td>Never married</td>\n",
       "      <td>None</td>\n",
       "      <td>None</td>\n",
       "      <td>Asian or Pacific Islander</td>\n",
       "      <td>...</td>\n",
       "      <td>0</td>\n",
       "      <td>Vietnam</td>\n",
       "      <td>Vietnam</td>\n",
       "      <td>Vietnam</td>\n",
       "      <td>Foreign born- Not a citizen of U S</td>\n",
       "      <td>0</td>\n",
       "      <td>2</td>\n",
       "      <td>0</td>\n",
       "      <td>95</td>\n",
       "      <td>0</td>\n",
       "    </tr>\n",
       "    <tr>\n",
       "      <th>3</th>\n",
       "      <td>48</td>\n",
       "      <td>Private</td>\n",
       "      <td>40</td>\n",
       "      <td>10</td>\n",
       "      <td>Some college but no degree</td>\n",
       "      <td>1200</td>\n",
       "      <td>Married-civilian spouse present</td>\n",
       "      <td>Entertainment</td>\n",
       "      <td>Professional specialty</td>\n",
       "      <td>Amer Indian Aleut or Eskimo</td>\n",
       "      <td>...</td>\n",
       "      <td>1</td>\n",
       "      <td>Philippines</td>\n",
       "      <td>United-States</td>\n",
       "      <td>United-States</td>\n",
       "      <td>Native- Born in the United States</td>\n",
       "      <td>2</td>\n",
       "      <td>2</td>\n",
       "      <td>52</td>\n",
       "      <td>95</td>\n",
       "      <td>0</td>\n",
       "    </tr>\n",
       "    <tr>\n",
       "      <th>4</th>\n",
       "      <td>42</td>\n",
       "      <td>Private</td>\n",
       "      <td>34</td>\n",
       "      <td>3</td>\n",
       "      <td>Bachelors degree(BA AB BS)</td>\n",
       "      <td>0</td>\n",
       "      <td>Married-civilian spouse present</td>\n",
       "      <td>Finance insurance and real estate</td>\n",
       "      <td>Executive admin and managerial</td>\n",
       "      <td>White</td>\n",
       "      <td>...</td>\n",
       "      <td>6</td>\n",
       "      <td>United-States</td>\n",
       "      <td>United-States</td>\n",
       "      <td>United-States</td>\n",
       "      <td>Native- Born in the United States</td>\n",
       "      <td>0</td>\n",
       "      <td>2</td>\n",
       "      <td>52</td>\n",
       "      <td>94</td>\n",
       "      <td>0</td>\n",
       "    </tr>\n",
       "  </tbody>\n",
       "</table>\n",
       "<p>5 rows × 34 columns</p>\n",
       "</div>"
      ],
      "text/plain": [
       "   age                  class of worker  industry code  occupation code  \\\n",
       "0   73                             None              0                0   \n",
       "1   58   Self-employed-not incorporated              4               34   \n",
       "2   18                             None              0                0   \n",
       "3   48                          Private             40               10   \n",
       "4   42                          Private             34                3   \n",
       "\n",
       "                     education  wage per hour  \\\n",
       "0         High school graduate              0   \n",
       "1   Some college but no degree              0   \n",
       "2                   10th grade              0   \n",
       "3   Some college but no degree           1200   \n",
       "4   Bachelors degree(BA AB BS)              0   \n",
       "\n",
       "                     marital status                 major industry code  \\\n",
       "0                           Widowed                                None   \n",
       "1                          Divorced                        Construction   \n",
       "2                     Never married                                None   \n",
       "3   Married-civilian spouse present                       Entertainment   \n",
       "4   Married-civilian spouse present   Finance insurance and real estate   \n",
       "\n",
       "                  major occupation code                          mace  ...  \\\n",
       "0                                  None                         White  ...   \n",
       "1   Precision production craft & repair                         White  ...   \n",
       "2                                  None     Asian or Pacific Islander  ...   \n",
       "3                Professional specialty   Amer Indian Aleut or Eskimo  ...   \n",
       "4        Executive admin and managerial                         White  ...   \n",
       "\n",
       "  family members under 18 country of birth father country of birth mother  \\\n",
       "0                       0           United-States           United-States   \n",
       "1                       1           United-States           United-States   \n",
       "2                       0                 Vietnam                 Vietnam   \n",
       "3                       1             Philippines           United-States   \n",
       "4                       6           United-States           United-States   \n",
       "\n",
       "   country of birth self                           citizenship  \\\n",
       "0          United-States     Native- Born in the United States   \n",
       "1          United-States     Native- Born in the United States   \n",
       "2                Vietnam   Foreign born- Not a citizen of U S    \n",
       "3          United-States     Native- Born in the United States   \n",
       "4          United-States     Native- Born in the United States   \n",
       "\n",
       "   total person income taxable income amount hours per week veterans benefits  \\\n",
       "0                    0                     2              0                95   \n",
       "1                    0                     2             52                94   \n",
       "2                    0                     2              0                95   \n",
       "3                    2                     2             52                95   \n",
       "4                    0                     2             52                94   \n",
       "\n",
       "   income  \n",
       "0       0  \n",
       "1       0  \n",
       "2       0  \n",
       "3       0  \n",
       "4       0  \n",
       "\n",
       "[5 rows x 34 columns]"
      ]
     },
     "execution_count": 88,
     "metadata": {},
     "output_type": "execute_result"
    }
   ],
   "source": [
    "pandasdf = adult_df.toPandas()\n",
    "pandasdf.head()"
   ]
  },
  {
   "cell_type": "code",
   "execution_count": 89,
   "metadata": {},
   "outputs": [
    {
     "name": "stdout",
     "output_type": "stream",
     "text": [
      "                                              sum_sq        df            F  \\\n",
      "Q(\"class of worker\")                        0.006988       8.0     0.014468   \n",
      "education                                 498.757282      15.0   550.721704   \n",
      "Q(\"marital status\")                        12.108608       6.0    33.425444   \n",
      "Q(\"major industry code\")                    0.020091      23.0     0.014468   \n",
      "Q(\"major occupation code\")                  0.012229      14.0     0.014468   \n",
      "mace                                        1.600096       4.0     6.625525   \n",
      "Q(\"hispanic Origin\")                        1.533008       9.0     2.821215   \n",
      "sex                                        84.651524       1.0  1402.067697   \n",
      "Q(\"full or part time employment stat\")      4.699464       7.0    11.119480   \n",
      "Q(\"federal income tax liability\")           9.024047       5.0    29.892729   \n",
      "Q(\"state of previous residence\")            3.764846      21.0     2.969355   \n",
      "Q(\"detailed household and family stat\")     0.244318       5.0     0.809318   \n",
      "Q(\"instance weight\")                        0.237627       8.0     0.491971   \n",
      "Q(\"migration code-change in msa\")           0.006115       7.0     0.014468   \n",
      "Q(\"migration code-change in reg\")           0.003550       8.0     0.007350   \n",
      "Q(\"migration code-move within reg\")         0.000871       2.0     0.007217   \n",
      "Q(\"country of birth father\")                4.814886      41.0     1.945075   \n",
      "Q(\"country of birth mother\")                3.916187      41.0     1.582027   \n",
      "Q(\"country of birth self\")                  0.035814      41.0     0.014468   \n",
      "citizenship                                 0.003494       4.0     0.014468   \n",
      "Residual                                 8245.457299  136568.0          NaN   \n",
      "\n",
      "                                                PR(>F)  \n",
      "Q(\"class of worker\")                      9.042598e-01  \n",
      "education                                 0.000000e+00  \n",
      "Q(\"marital status\")                       1.553319e-40  \n",
      "Q(\"major industry code\")                  9.042598e-01  \n",
      "Q(\"major occupation code\")                9.042598e-01  \n",
      "mace                                      2.508817e-05  \n",
      "Q(\"hispanic Origin\")                      2.569482e-03  \n",
      "sex                                      2.676409e-305  \n",
      "Q(\"full or part time employment stat\")    3.838293e-14  \n",
      "Q(\"federal income tax liability\")         1.806085e-30  \n",
      "Q(\"state of previous residence\")          5.601610e-06  \n",
      "Q(\"detailed household and family stat\")   5.427297e-01  \n",
      "Q(\"instance weight\")                      4.830507e-01  \n",
      "Q(\"migration code-change in msa\")         9.042598e-01  \n",
      "Q(\"migration code-change in reg\")         9.926765e-01  \n",
      "Q(\"migration code-move within reg\")       9.928093e-01  \n",
      "Q(\"country of birth father\")              2.750058e-04  \n",
      "Q(\"country of birth mother\")              1.020448e-02  \n",
      "Q(\"country of birth self\")                9.042598e-01  \n",
      "citizenship                               9.042598e-01  \n",
      "Residual                                           NaN  \n"
     ]
    },
    {
     "name": "stderr",
     "output_type": "stream",
     "text": [
      "c:\\users\\yiry\\appdata\\local\\programs\\python\\python39\\lib\\site-packages\\statsmodels\\base\\model.py:1871: ValueWarning: covariance of constraints does not have full rank. The number of constraints is 8, but rank is 1\n",
      "  warnings.warn('covariance of constraints does not have full '\n",
      "c:\\users\\yiry\\appdata\\local\\programs\\python\\python39\\lib\\site-packages\\statsmodels\\base\\model.py:1871: ValueWarning: covariance of constraints does not have full rank. The number of constraints is 23, but rank is 1\n",
      "  warnings.warn('covariance of constraints does not have full '\n",
      "c:\\users\\yiry\\appdata\\local\\programs\\python\\python39\\lib\\site-packages\\statsmodels\\base\\model.py:1871: ValueWarning: covariance of constraints does not have full rank. The number of constraints is 14, but rank is 1\n",
      "  warnings.warn('covariance of constraints does not have full '\n",
      "c:\\users\\yiry\\appdata\\local\\programs\\python\\python39\\lib\\site-packages\\statsmodels\\base\\model.py:1871: ValueWarning: covariance of constraints does not have full rank. The number of constraints is 8, but rank is 1\n",
      "  warnings.warn('covariance of constraints does not have full '\n",
      "c:\\users\\yiry\\appdata\\local\\programs\\python\\python39\\lib\\site-packages\\statsmodels\\base\\model.py:1871: ValueWarning: covariance of constraints does not have full rank. The number of constraints is 7, but rank is 1\n",
      "  warnings.warn('covariance of constraints does not have full '\n",
      "c:\\users\\yiry\\appdata\\local\\programs\\python\\python39\\lib\\site-packages\\statsmodels\\base\\model.py:1871: ValueWarning: covariance of constraints does not have full rank. The number of constraints is 8, but rank is 2\n",
      "  warnings.warn('covariance of constraints does not have full '\n",
      "c:\\users\\yiry\\appdata\\local\\programs\\python\\python39\\lib\\site-packages\\statsmodels\\base\\model.py:1871: ValueWarning: covariance of constraints does not have full rank. The number of constraints is 41, but rank is 1\n",
      "  warnings.warn('covariance of constraints does not have full '\n",
      "c:\\users\\yiry\\appdata\\local\\programs\\python\\python39\\lib\\site-packages\\statsmodels\\base\\model.py:1871: ValueWarning: covariance of constraints does not have full rank. The number of constraints is 4, but rank is 1\n",
      "  warnings.warn('covariance of constraints does not have full '\n"
     ]
    }
   ],
   "source": [
    "anova=ols('income ~ Q(\"class of worker\") + education + Q(\"marital status\") + Q(\"major industry code\") + Q(\"major occupation code\") + mace + Q(\"hispanic Origin\") + sex + Q(\"full or part time employment stat\") + Q(\"federal income tax liability\") + Q(\"state of previous residence\") + Q(\"detailed household and family stat\") + Q(\"instance weight\") + Q(\"migration code-change in msa\") + Q(\"migration code-change in reg\") + Q(\"migration code-move within reg\") + Q(\"country of birth father\") + Q(\"country of birth mother\") + Q(\"country of birth self\") + citizenship', data=pandasdf).fit()\n",
    "print(sm.stats.anova_lm(anova, typ=2))"
   ]
  },
  {
   "cell_type": "code",
   "execution_count": 90,
   "metadata": {},
   "outputs": [
    {
     "name": "stdout",
     "output_type": "stream",
     "text": [
      "Number of collumns: 26\n",
      "Number of row: 136826\n"
     ]
    }
   ],
   "source": [
    "df_Columns=[\"wage per hours\",\n",
    "            \"detail household sumary in household\",\n",
    "            \"class of worker\",\n",
    "            \"education\",\n",
    "            \"major industry code\",\n",
    "            \"major occupation\",\n",
    "            \"detailed household and family stat\",\n",
    "            \"instance weight\",\n",
    "            \"migration code-change in msa\",\n",
    "            \"migration code-change in reg\",\n",
    "            \"migration code-move within reg\",\n",
    "            \"country of birth self, citizenship\"\n",
    "           ]\n",
    "data = adult_df.drop(*df_Columns)\n",
    "print(\"Number of collumns: {}\".format(len(data.columns)))\n",
    "print(\"Number of row: {}\".format(data.count()))"
   ]
  },
  {
   "cell_type": "code",
   "execution_count": 91,
   "metadata": {},
   "outputs": [],
   "source": [
    "traindataset, testdataset = data.randomSplit((0.8, 0.2))"
   ]
  },
  {
   "cell_type": "code",
   "execution_count": 92,
   "metadata": {},
   "outputs": [
    {
     "data": {
      "text/plain": [
       "109844"
      ]
     },
     "execution_count": 92,
     "metadata": {},
     "output_type": "execute_result"
    }
   ],
   "source": [
    "traindataset.count()"
   ]
  },
  {
   "cell_type": "code",
   "execution_count": 93,
   "metadata": {},
   "outputs": [
    {
     "data": {
      "text/plain": [
       "26982"
      ]
     },
     "execution_count": 93,
     "metadata": {},
     "output_type": "execute_result"
    }
   ],
   "source": [
    "testdataset.count()"
   ]
  },
  {
   "cell_type": "code",
   "execution_count": 94,
   "metadata": {},
   "outputs": [],
   "source": [
    "from pyspark.ml.evaluation import MulticlassClassificationEvaluator, BinaryClassificationEvaluator\n",
    "from pyspark.ml.feature import StringIndexer, OneHotEncoder, VectorAssembler, StandardScaler\n",
    "from pyspark.ml.classification import LogisticRegression, MultilayerPerceptronClassifier, RandomForestClassifier, DecisionTreeClassifier\n",
    "from pyspark.ml.pipeline import Pipeline"
   ]
  },
  {
   "cell_type": "code",
   "execution_count": 95,
   "metadata": {},
   "outputs": [
    {
     "data": {
      "text/plain": [
       "(14,\n",
       " ['age',\n",
       "  'industry code',\n",
       "  'occupation code',\n",
       "  'wage per hour',\n",
       "  'capital gains',\n",
       "  'capital losses',\n",
       "  'divdends from stocks',\n",
       "  'detailed household summary in household',\n",
       "  'family members under 18',\n",
       "  'total person income',\n",
       "  'taxable income amount',\n",
       "  'hours per week',\n",
       "  'veterans benefits',\n",
       "  'income'])"
      ]
     },
     "execution_count": 95,
     "metadata": {},
     "output_type": "execute_result"
    }
   ],
   "source": [
    "numeric_cols = [i.name for i in data.schema if (type(i.dataType) == T.IntegerType or type(i.dataType) == T.DoubleType) ]\n",
    "len(numeric_cols), numeric_cols"
   ]
  },
  {
   "cell_type": "code",
   "execution_count": 96,
   "metadata": {},
   "outputs": [],
   "source": [
    "numeric_cols.remove('income')"
   ]
  },
  {
   "cell_type": "code",
   "execution_count": 97,
   "metadata": {},
   "outputs": [
    {
     "data": {
      "text/plain": [
       "['age',\n",
       " 'industry code',\n",
       " 'occupation code',\n",
       " 'wage per hour',\n",
       " 'capital gains',\n",
       " 'capital losses',\n",
       " 'divdends from stocks',\n",
       " 'detailed household summary in household',\n",
       " 'family members under 18',\n",
       " 'total person income',\n",
       " 'taxable income amount',\n",
       " 'hours per week',\n",
       " 'veterans benefits']"
      ]
     },
     "execution_count": 97,
     "metadata": {},
     "output_type": "execute_result"
    }
   ],
   "source": [
    "numeric_cols"
   ]
  },
  {
   "cell_type": "code",
   "execution_count": 98,
   "metadata": {},
   "outputs": [
    {
     "data": {
      "text/plain": [
       "(12,\n",
       " ['marital status',\n",
       "  'major occupation code',\n",
       "  'mace',\n",
       "  'hispanic Origin',\n",
       "  'sex',\n",
       "  'full or part time employment stat',\n",
       "  'federal income tax liability',\n",
       "  'state of previous residence',\n",
       "  'country of birth father',\n",
       "  'country of birth mother',\n",
       "  'country of birth self',\n",
       "  'citizenship'])"
      ]
     },
     "execution_count": 98,
     "metadata": {},
     "output_type": "execute_result"
    }
   ],
   "source": [
    "string_cols = [i.name for i in data.schema if type(i.dataType) == T.StringType]\n",
    "len(string_cols), string_cols"
   ]
  },
  {
   "cell_type": "code",
   "execution_count": 99,
   "metadata": {},
   "outputs": [],
   "source": [
    "indexer = StringIndexer(inputCols=string_cols, outputCols=[s + '_Ind' for s in string_cols])\n",
    "encoder = OneHotEncoder(inputCols=[s + '_Ind' for s in string_cols], outputCols=[s + '_Vector' for s in string_cols])\n",
    "assembler = VectorAssembler(inputCols=[s + '_Vector' for s in string_cols] + numeric_cols, outputCol=\"raw_features\")\n",
    "standard_scaler = StandardScaler(inputCol=\"raw_features\", outputCol=\"features\")"
   ]
  },
  {
   "cell_type": "markdown",
   "metadata": {},
   "source": [
    "# Muilti class"
   ]
  },
  {
   "cell_type": "code",
   "execution_count": 100,
   "metadata": {},
   "outputs": [],
   "source": [
    "layers = [20, 50, 2]\n",
    "nn = MultilayerPerceptronClassifier(labelCol='income',\n",
    "                                            featuresCol='features',\n",
    "                                            maxIter=200,\n",
    "                                            layers=layers,\n",
    "                                            blockSize=128,\n",
    "                                            seed=1234)\n",
    "nn_pipeline = Pipeline(stages=[indexer, encoder, assembler, standard_scaler, nn])"
   ]
  },
  {
   "cell_type": "code",
   "execution_count": 101,
   "metadata": {},
   "outputs": [],
   "source": [
    "model = nn_pipeline.fit(traindataset)\n",
    "nn_output = model.transform(testdataset)"
   ]
  },
  {
   "cell_type": "code",
   "execution_count": 102,
   "metadata": {},
   "outputs": [],
   "source": [
    "nn_prediction = nn_output.select('prediction', 'income')"
   ]
  },
  {
   "cell_type": "markdown",
   "metadata": {},
   "source": [
    "# Logistic regression"
   ]
  },
  {
   "cell_type": "code",
   "execution_count": 103,
   "metadata": {},
   "outputs": [],
   "source": [
    "logistic = LogisticRegression(labelCol='income',featuresCol='features')\n",
    "log_pipeline = Pipeline(stages=[indexer, encoder, assembler, standard_scaler, logistic])"
   ]
  },
  {
   "cell_type": "code",
   "execution_count": 104,
   "metadata": {},
   "outputs": [],
   "source": [
    "log_model = log_pipeline.fit(traindataset)\n",
    "log_output = log_model.transform(testdataset)"
   ]
  },
  {
   "cell_type": "code",
   "execution_count": 105,
   "metadata": {},
   "outputs": [],
   "source": [
    "logis_prediction = log_output.select('prediction', 'income')"
   ]
  },
  {
   "cell_type": "code",
   "execution_count": 106,
   "metadata": {},
   "outputs": [
    {
     "name": "stdout",
     "output_type": "stream",
     "text": [
      "weightedPrecision = 0.914828005982901\n",
      "weightedRecall = 0.9269883626121118\n",
      "f1 = 0.9127360343150959\n"
     ]
    }
   ],
   "source": [
    "metrics = ['weightedPrecision', 'weightedRecall', 'f1']\n",
    "for metric in metrics:\n",
    "    evaluator = MulticlassClassificationEvaluator(metricName=metric,labelCol = 'income')\n",
    "    print(metric + ' = ' + str(evaluator.evaluate(logis_prediction)))\n",
    "    "
   ]
  },
  {
   "cell_type": "markdown",
   "metadata": {},
   "source": [
    "# Random forest"
   ]
  },
  {
   "cell_type": "code",
   "execution_count": 107,
   "metadata": {},
   "outputs": [],
   "source": [
    "random = RandomForestClassifier(labelCol='income',featuresCol='features')\n",
    "ran_pipeline = Pipeline(stages=[indexer, encoder, assembler, standard_scaler, random])"
   ]
  },
  {
   "cell_type": "code",
   "execution_count": 108,
   "metadata": {},
   "outputs": [],
   "source": [
    "ran_model = ran_pipeline.fit(traindataset)\n",
    "ran_output = ran_model.transform(testdataset)"
   ]
  },
  {
   "cell_type": "code",
   "execution_count": 109,
   "metadata": {},
   "outputs": [],
   "source": [
    "ran_prediction = ran_output.select('prediction', 'income')"
   ]
  },
  {
   "cell_type": "code",
   "execution_count": 110,
   "metadata": {},
   "outputs": [
    {
     "name": "stdout",
     "output_type": "stream",
     "text": [
      "weightedPrecision = 0.8330570515001006\n",
      "weightedRecall = 0.9127195908383366\n",
      "f1 = 0.8710707575646\n"
     ]
    }
   ],
   "source": [
    "metrics = ['weightedPrecision', 'weightedRecall', 'f1']\n",
    "for metric in metrics:\n",
    "    evaluator = MulticlassClassificationEvaluator(metricName=metric,labelCol = 'income')\n",
    "    print(metric + ' = ' + str(evaluator.evaluate(ran_prediction)))\n",
    "    "
   ]
  },
  {
   "cell_type": "markdown",
   "metadata": {},
   "source": [
    "# Decision Tree"
   ]
  },
  {
   "cell_type": "code",
   "execution_count": 111,
   "metadata": {},
   "outputs": [],
   "source": [
    "decision = DecisionTreeClassifier(labelCol='income',featuresCol='features')\n",
    "dec_pipeline = Pipeline(stages=[indexer, encoder, assembler, standard_scaler, decision])"
   ]
  },
  {
   "cell_type": "code",
   "execution_count": 112,
   "metadata": {},
   "outputs": [],
   "source": [
    "dec_model = dec_pipeline.fit(traindataset)\n",
    "dec_output = dec_model.transform(testdataset)"
   ]
  },
  {
   "cell_type": "code",
   "execution_count": 113,
   "metadata": {},
   "outputs": [],
   "source": [
    "dec_prediction = dec_output.select('prediction', 'income')"
   ]
  },
  {
   "cell_type": "code",
   "execution_count": null,
   "metadata": {},
   "outputs": [
    {
     "name": "stdout",
     "output_type": "stream",
     "text": [
      "weightedPrecision = 0.9114978263913809\n",
      "weightedRecall = 0.9249870283892966\n"
     ]
    }
   ],
   "source": [
    "metrics = ['weightedPrecision', 'weightedRecall', 'f1']\n",
    "for metric in metrics:\n",
    "    evaluator = MulticlassClassificationEvaluator(metricName=metric,labelCol = 'income')\n",
    "    print(metric + ' = ' + str(evaluator.evaluate(dec_prediction)))\n",
    "    "
   ]
  },
  {
   "cell_type": "code",
   "execution_count": null,
   "metadata": {},
   "outputs": [],
   "source": []
  }
 ],
 "metadata": {
  "kernelspec": {
   "display_name": "Python 3",
   "language": "python",
   "name": "python3"
  },
  "language_info": {
   "codemirror_mode": {
    "name": "ipython",
    "version": 3
   },
   "file_extension": ".py",
   "mimetype": "text/x-python",
   "name": "python",
   "nbconvert_exporter": "python",
   "pygments_lexer": "ipython3",
   "version": "3.9.1"
  }
 },
 "nbformat": 4,
 "nbformat_minor": 4
}
